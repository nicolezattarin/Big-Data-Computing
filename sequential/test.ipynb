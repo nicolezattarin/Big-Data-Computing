{
 "cells": [
  {
   "cell_type": "code",
   "execution_count": 6,
   "metadata": {},
   "outputs": [],
   "source": [
    "import numpy as np"
   ]
  },
  {
   "cell_type": "code",
   "execution_count": 13,
   "metadata": {},
   "outputs": [
    {
     "data": {
      "text/plain": [
       "0.04999999999999999"
      ]
     },
     "execution_count": 13,
     "metadata": {},
     "output_type": "execute_result"
    }
   ],
   "source": [
    "a = (1,1)\n",
    "b = (1,0.9)\n",
    "np.sqrt((a[0]-b[0])**2 + (a[1]-b[1])**2)/2"
   ]
  },
  {
   "cell_type": "code",
   "execution_count": 6,
   "metadata": {},
   "outputs": [
    {
     "data": {
      "text/plain": [
       "array([1, 3])"
      ]
     },
     "execution_count": 6,
     "metadata": {},
     "output_type": "execute_result"
    }
   ],
   "source": [
    "\n",
    "a = [(1,2),(3,4),(5,6),(7,8)]\n",
    "x = (1,1)\n",
    "mask = [True, False, True, False]\n",
    "aa = np.extract(mask, a)\n",
    "aa"
   ]
  },
  {
   "cell_type": "code",
   "execution_count": 11,
   "metadata": {},
   "outputs": [],
   "source": [
    "def euclidean(point1,point2):\n",
    "    import math\n",
    "    res = 0\n",
    "    for i in range(len(point1)):\n",
    "        diff = (point1[i]-point2[i])\n",
    "        res +=  diff*diff\n",
    "    return math.sqrt(res)"
   ]
  },
  {
   "cell_type": "code",
   "execution_count": 12,
   "metadata": {},
   "outputs": [],
   "source": [
    "P = [(1.0, 1.0), (1.1, 1.1), (0.9, 0.9), (1.0, 0.9), (4.0, 1.0), (4.1, 1.1), (3.9, 0.9), (4.0, 0.9), (1.0, 4.0), (1.1, 4.1), (0.9, 3.9), (1.0, 3.9), (2.0, 2.0), (2.2, 2.0), (4.0, 4.0)]\n",
    "W = [1, 1, 1, 1, 1, 1, 1, 1, 1, 1, 1, 1, 1, 1, 1, 1, 1, 1, 1, 1]\n",
    "S = [(1.0, 1.0), (4.0, 1.0), (1.0, 4.0)]"
   ]
  },
  {
   "cell_type": "code",
   "execution_count": 20,
   "metadata": {},
   "outputs": [],
   "source": [
    "\n",
    "def ComputeObjective(inputPoints, S, z):\n",
    "    \"\"\"\n",
    "    Computes the value of the objective function for the set of points inputPoints, \n",
    "    the set of centers S, and z outliers.\n",
    "\n",
    "    Hint: you may compute all distances d(x,S), for every x in P, sort them, exclude the z largest distances, and return the largest among the remaining ones. Note that in this case we are not using weights!\n",
    "    params:\n",
    "    ::inputPoints (list of tuples): input points\n",
    "    ::S (list of tuples): centers\n",
    "    ::z (int): number of outliers\n",
    "    \"\"\"\n",
    "    distances = np.zeros(shape=(len(inputPoints), len(S))) #rows are points, columns are centers \n",
    "    for i in range(len(inputPoints)):\n",
    "        for j in range(len(S)):\n",
    "            distances[i, j] = euclidean(inputPoints[i], S[j])\n",
    "    DistFromSet = [min(distances[i][:]) for i in range(len(inputPoints))]\n",
    "    DistFromSet.sort()\n",
    "    if z == 0: return max(DistFromSet)\n",
    "    else: return max(DistFromSet[:-z])\n",
    "\n",
    "    "
   ]
  },
  {
   "cell_type": "code",
   "execution_count": 21,
   "metadata": {},
   "outputs": [
    {
     "data": {
      "text/plain": [
       "0.14142135623730964"
      ]
     },
     "execution_count": 21,
     "metadata": {},
     "output_type": "execute_result"
    }
   ],
   "source": [
    "ComputeObjective(P, S, 3)\n"
   ]
  },
  {
   "cell_type": "code",
   "execution_count": 46,
   "metadata": {},
   "outputs": [
    {
     "data": {
      "text/plain": [
       "[(1.0, 1.0), (1.1, 1.1), (0.9, 0.9), (1.0, 0.9)]"
      ]
     },
     "execution_count": 46,
     "metadata": {},
     "output_type": "execute_result"
    }
   ],
   "source": [
    "def ball(x, r, Set):\n",
    "    \"\"\"\n",
    "    returns a list of points in the ball of radius r around x\n",
    "    \"\"\"\n",
    "    # DEBUG\n",
    "    # print ('type of x:', type(x))\n",
    "    # print ('type of r:', type(r))\n",
    "    # print ('type of InTuple:', type(InTuple))\n",
    "    # print ('type of InTuple[0]:', type(InTuple[0]))\n",
    "    mask = np.array([euclidean(p, x) for p in Set]) < r\n",
    "    from itertools import compress\n",
    "    return list(compress(Set, mask))\n",
    "    \n",
    "\n",
    "ball(P[0], 1, P)"
   ]
  },
  {
   "cell_type": "code",
   "execution_count": null,
   "metadata": {},
   "outputs": [],
   "source": []
  }
 ],
 "metadata": {
  "interpreter": {
   "hash": "e47b1a34c05c1e3b83a62d7885c9d1b5ef8a0522d3be0182d0a008ec409b2b3d"
  },
  "kernelspec": {
   "display_name": "Python 3.8.5 ('myenv')",
   "language": "python",
   "name": "python3"
  },
  "language_info": {
   "codemirror_mode": {
    "name": "ipython",
    "version": 3
   },
   "file_extension": ".py",
   "mimetype": "text/x-python",
   "name": "python",
   "nbconvert_exporter": "python",
   "pygments_lexer": "ipython3",
   "version": "3.8.5"
  },
  "orig_nbformat": 4
 },
 "nbformat": 4,
 "nbformat_minor": 2
}
