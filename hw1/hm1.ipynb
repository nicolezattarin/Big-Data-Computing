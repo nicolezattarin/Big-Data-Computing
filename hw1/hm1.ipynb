{
 "cells": [
  {
   "cell_type": "code",
   "execution_count": 1,
   "metadata": {},
   "outputs": [],
   "source": [
    "import numpy as np\n",
    "import pandas as pd\n",
    "from pyspark import SparkContext, SparkConf"
   ]
  },
  {
   "cell_type": "code",
   "execution_count": 22,
   "metadata": {},
   "outputs": [
    {
     "data": {
      "text/html": [
       "<div>\n",
       "<style scoped>\n",
       "    .dataframe tbody tr th:only-of-type {\n",
       "        vertical-align: middle;\n",
       "    }\n",
       "\n",
       "    .dataframe tbody tr th {\n",
       "        vertical-align: top;\n",
       "    }\n",
       "\n",
       "    .dataframe thead th {\n",
       "        text-align: right;\n",
       "    }\n",
       "</style>\n",
       "<table border=\"1\" class=\"dataframe\">\n",
       "  <thead>\n",
       "    <tr style=\"text-align: right;\">\n",
       "      <th></th>\n",
       "      <th>TransactionID</th>\n",
       "      <th>ProductID</th>\n",
       "      <th>Description</th>\n",
       "      <th>Quantity</th>\n",
       "      <th>InvoiceDate</th>\n",
       "      <th>UnitPrice</th>\n",
       "      <th>CustomerID</th>\n",
       "      <th>Country</th>\n",
       "    </tr>\n",
       "  </thead>\n",
       "  <tbody>\n",
       "    <tr>\n",
       "      <th>0</th>\n",
       "      <td>536365</td>\n",
       "      <td>84029E</td>\n",
       "      <td>RED WOOLLY HOTTIE WHITE HEART.</td>\n",
       "      <td>6</td>\n",
       "      <td>2010-12-01 08:26:00</td>\n",
       "      <td>3.39</td>\n",
       "      <td>17850</td>\n",
       "      <td>United_Kingdom</td>\n",
       "    </tr>\n",
       "    <tr>\n",
       "      <th>1</th>\n",
       "      <td>536366</td>\n",
       "      <td>22632</td>\n",
       "      <td>HAND WARMER RED POLKA DOT</td>\n",
       "      <td>6</td>\n",
       "      <td>2010-12-01 08:28:00</td>\n",
       "      <td>1.85</td>\n",
       "      <td>17850</td>\n",
       "      <td>United_Kingdom</td>\n",
       "    </tr>\n",
       "    <tr>\n",
       "      <th>2</th>\n",
       "      <td>536368</td>\n",
       "      <td>22960</td>\n",
       "      <td>JAM MAKING SET WITH JARS</td>\n",
       "      <td>6</td>\n",
       "      <td>2010-12-01 08:34:00</td>\n",
       "      <td>4.25</td>\n",
       "      <td>13047</td>\n",
       "      <td>Italy</td>\n",
       "    </tr>\n",
       "    <tr>\n",
       "      <th>3</th>\n",
       "      <td>536369</td>\n",
       "      <td>37449</td>\n",
       "      <td>CERAMIC CAKE STAND + HANGING CAKES</td>\n",
       "      <td>3</td>\n",
       "      <td>2010-12-01 08:35:00</td>\n",
       "      <td>5.95</td>\n",
       "      <td>13047</td>\n",
       "      <td>United_Kingdom</td>\n",
       "    </tr>\n",
       "    <tr>\n",
       "      <th>4</th>\n",
       "      <td>536372</td>\n",
       "      <td>22633</td>\n",
       "      <td>HAND WARMER UNION JACK</td>\n",
       "      <td>6</td>\n",
       "      <td>2010-12-01 09:01:00</td>\n",
       "      <td>1.85</td>\n",
       "      <td>17850</td>\n",
       "      <td>United_Kingdom</td>\n",
       "    </tr>\n",
       "  </tbody>\n",
       "</table>\n",
       "</div>"
      ],
      "text/plain": [
       "   TransactionID ProductID                         Description  Quantity  \\\n",
       "0         536365    84029E      RED WOOLLY HOTTIE WHITE HEART.         6   \n",
       "1         536366     22632           HAND WARMER RED POLKA DOT         6   \n",
       "2         536368     22960            JAM MAKING SET WITH JARS         6   \n",
       "3         536369     37449  CERAMIC CAKE STAND + HANGING CAKES         3   \n",
       "4         536372     22633              HAND WARMER UNION JACK         6   \n",
       "\n",
       "           InvoiceDate  UnitPrice  CustomerID         Country  \n",
       "0  2010-12-01 08:26:00       3.39       17850  United_Kingdom  \n",
       "1  2010-12-01 08:28:00       1.85       17850  United_Kingdom  \n",
       "2  2010-12-01 08:34:00       4.25       13047           Italy  \n",
       "3  2010-12-01 08:35:00       5.95       13047  United_Kingdom  \n",
       "4  2010-12-01 09:01:00       1.85       17850  United_Kingdom  "
      ]
     },
     "execution_count": 22,
     "metadata": {},
     "output_type": "execute_result"
    }
   ],
   "source": [
    "df = pd.read_csv('data/sample_50.csv', sep=',', header=None)\n",
    "df.columns = ['TransactionID', 'ProductID', 'Description','Quantity', 'InvoiceDate','UnitPrice', 'CustomerID', 'Country'] \n",
    "df.head()"
   ]
  },
  {
   "cell_type": "code",
   "execution_count": 23,
   "metadata": {},
   "outputs": [
    {
     "data": {
      "text/plain": [
       "11"
      ]
     },
     "execution_count": 23,
     "metadata": {},
     "output_type": "execute_result"
    }
   ],
   "source": [
    "np.sum(df['Country']=='Italy')"
   ]
  },
  {
   "cell_type": "code",
   "execution_count": 13,
   "metadata": {},
   "outputs": [],
   "source": [
    "s = ['536365,84029E,RED WOOLLY HOTTIE WHITE HEART.,6,2010-12-01 08:26:00,3.39,17850,United_Kingdom',\n",
    " '536366,22632,HAND WARMER RED POLKA DOT,6,2010-12-01 08:28:00,1.85,17850,United_Kingdom', \n",
    " '536368,22960,JAM MAKING SET WITH JARS,6,2010-12-01 08:34:00,4.25,13047,Italy', \n",
    " '536369,37449,CERAMIC CAKE STAND + HANGING CAKES,3,2010-12-01 08:35:00,5.95,13047,United_Kingdom',\n",
    "  '536372,22633,HAND WARMER UNION JACK,6,2010-12-01 09:01:00,1.85,17850,United_Kingdom', \n",
    "  '536374,21258,VICTORIAN SEWING BOX LARGE,32,2010-12-01 09:09:00,10.95,15100,United_Kingdom', \n",
    "  '536376,21733,RED HANGING HEART T-LIGHT HOLDER,64,2010-12-01 09:32:00,2.55,15291,Italy', \n",
    "  '536377,22632,HAND WARMER RED POLKA DOT,6,2010-12-01 09:34:00,1.85,17850,United_Kingdom',\n",
    "   '536380,22961,JAM MAKING SET PRINTED,24,2010-12-01 09:41:00,1.45,17809,Italy', \n",
    "   '536385,22961,JAM MAKING SET PRINTED,12,2010-12-01 09:56:00,1.45,17420,Italy']"
   ]
  },
  {
   "cell_type": "code",
   "execution_count": 15,
   "metadata": {},
   "outputs": [
    {
     "data": {
      "text/plain": [
       "[['536365',\n",
       "  '84029E',\n",
       "  'RED WOOLLY HOTTIE WHITE HEART.',\n",
       "  '6',\n",
       "  '2010-12-01 08:26:00',\n",
       "  '3.39',\n",
       "  '17850',\n",
       "  'United_Kingdom'],\n",
       " ['536366',\n",
       "  '22632',\n",
       "  'HAND WARMER RED POLKA DOT',\n",
       "  '6',\n",
       "  '2010-12-01 08:28:00',\n",
       "  '1.85',\n",
       "  '17850',\n",
       "  'United_Kingdom'],\n",
       " ['536368',\n",
       "  '22960',\n",
       "  'JAM MAKING SET WITH JARS',\n",
       "  '6',\n",
       "  '2010-12-01 08:34:00',\n",
       "  '4.25',\n",
       "  '13047',\n",
       "  'Italy'],\n",
       " ['536369',\n",
       "  '37449',\n",
       "  'CERAMIC CAKE STAND + HANGING CAKES',\n",
       "  '3',\n",
       "  '2010-12-01 08:35:00',\n",
       "  '5.95',\n",
       "  '13047',\n",
       "  'United_Kingdom'],\n",
       " ['536372',\n",
       "  '22633',\n",
       "  'HAND WARMER UNION JACK',\n",
       "  '6',\n",
       "  '2010-12-01 09:01:00',\n",
       "  '1.85',\n",
       "  '17850',\n",
       "  'United_Kingdom'],\n",
       " ['536374',\n",
       "  '21258',\n",
       "  'VICTORIAN SEWING BOX LARGE',\n",
       "  '32',\n",
       "  '2010-12-01 09:09:00',\n",
       "  '10.95',\n",
       "  '15100',\n",
       "  'United_Kingdom'],\n",
       " ['536376',\n",
       "  '21733',\n",
       "  'RED HANGING HEART T-LIGHT HOLDER',\n",
       "  '64',\n",
       "  '2010-12-01 09:32:00',\n",
       "  '2.55',\n",
       "  '15291',\n",
       "  'Italy'],\n",
       " ['536377',\n",
       "  '22632',\n",
       "  'HAND WARMER RED POLKA DOT',\n",
       "  '6',\n",
       "  '2010-12-01 09:34:00',\n",
       "  '1.85',\n",
       "  '17850',\n",
       "  'United_Kingdom'],\n",
       " ['536380',\n",
       "  '22961',\n",
       "  'JAM MAKING SET PRINTED',\n",
       "  '24',\n",
       "  '2010-12-01 09:41:00',\n",
       "  '1.45',\n",
       "  '17809',\n",
       "  'Italy'],\n",
       " ['536385',\n",
       "  '22961',\n",
       "  'JAM MAKING SET PRINTED',\n",
       "  '12',\n",
       "  '2010-12-01 09:56:00',\n",
       "  '1.45',\n",
       "  '17420',\n",
       "  'Italy']]"
      ]
     },
     "execution_count": 15,
     "metadata": {},
     "output_type": "execute_result"
    }
   ],
   "source": [
    "s_split = [x.split(',') for x in s]\n",
    "s_split"
   ]
  },
  {
   "cell_type": "code",
   "execution_count": null,
   "metadata": {},
   "outputs": [],
   "source": []
  }
 ],
 "metadata": {
  "interpreter": {
   "hash": "e47b1a34c05c1e3b83a62d7885c9d1b5ef8a0522d3be0182d0a008ec409b2b3d"
  },
  "kernelspec": {
   "display_name": "Python 3.8.5 ('myenv')",
   "language": "python",
   "name": "python3"
  },
  "language_info": {
   "codemirror_mode": {
    "name": "ipython",
    "version": 3
   },
   "file_extension": ".py",
   "mimetype": "text/x-python",
   "name": "python",
   "nbconvert_exporter": "python",
   "pygments_lexer": "ipython3",
   "version": "3.8.5"
  },
  "orig_nbformat": 4
 },
 "nbformat": 4,
 "nbformat_minor": 2
}
